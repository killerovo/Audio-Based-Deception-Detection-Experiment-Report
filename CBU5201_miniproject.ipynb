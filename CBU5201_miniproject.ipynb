{
 "cells": [
  {
   "cell_type": "markdown",
   "metadata": {},
   "source": [
    "<h1 style=\"text-align: center;\">Audio-Based Deception Detection Experiment Report</h1>\n",
    "\n"
   ]
  },
  {
   "cell_type": "markdown",
   "metadata": {
    "id": "ZaGn4ICrfqXZ"
   },
   "source": [
    "## 1. Author\n",
    "<div style=\"text-align: center;\">\n",
    "    <span><b>Student Name</b>: Li Zhijiang</span> | \n",
    "    <span><b>Student ID</b>: 221167607</span>\n",
    "</div>\n"
   ]
  },
  {
   "metadata": {},
   "cell_type": "markdown",
   "source": [
    "## 2. Problem Formulation\n",
    "Deception detection using machine learning has gained significant attention due to its applications in legal, psychological, and security domains. By analyzing audio files, we aim to classify spoken stories as either **True** or **Deceptive**. This project employs ensemble machine learning techniques to achieve robust classification. \n",
    "The key challenge lies in extracting meaningful features from audio data and balancing performance across multiple classification models. This report provides an in-depth explanation of our methodology, including data preprocessing, feature extraction, model implementation, and evaluation."
   ]
  },
  {
   "metadata": {},
   "cell_type": "markdown",
   "source": [
    "## Libraries Used\n",
    "\n",
    "- **Core Libraries**: `os`, `pandas`, `numpy` for file handling, data manipulation, and numerical computations.\n",
    "- **Audio Processing**: `librosa` for extracting audio features like MFCC, Chroma, and Spectral Contrast.\n",
    "- **Machine Learning Models**: `RandomForestClassifier`, `SVC`, and `MLPClassifier` for classification tasks.\n",
    "- **Model Validation**: `GridSearchCV`, `StratifiedKFold`, and `cross_val_score` for hyperparameter tuning and cross-validation.\n",
    "- **Performance Metrics**: `accuracy_score`, `confusion_matrix`, `roc_curve`, and `auc` to evaluate model performance.\n",
    "- **Visualization**: `matplotlib`, `seaborn` for creating plots and heatmaps.\n",
    "- **Utilities**: `tqdm`, `joblib`, `zipfile`, `requests` for progress tracking, saving models, and dataset management.\n"
   ]
  },
  {
   "metadata": {
    "ExecuteTime": {
     "end_time": "2024-12-12T10:40:15.370616Z",
     "start_time": "2024-12-12T10:40:15.356277Z"
    }
   },
   "cell_type": "code",
   "source": [
    "# Core Libraries\n",
    "import os\n",
    "import pandas as pd\n",
    "import numpy as np\n",
    "\n",
    "# Audio Processing\n",
    "import librosa\n",
    "import librosa.display\n",
    "\n",
    "# Machine Learning Models and Tools\n",
    "from sklearn.ensemble import RandomForestClassifier, VotingClassifier\n",
    "from sklearn.svm import SVC\n",
    "from sklearn.neural_network import MLPClassifier\n",
    "\n",
    "# Model Validation and Optimization\n",
    "from sklearn.model_selection import GridSearchCV, StratifiedKFold, cross_val_score, train_test_split\n",
    "from sklearn.utils import resample\n",
    "\n",
    "# Performance Metrics\n",
    "from sklearn.metrics import accuracy_score, confusion_matrix, classification_report, roc_curve, auc\n",
    "\n",
    "# Visualization\n",
    "import matplotlib.pyplot as plt\n",
    "import seaborn as sns\n",
    "\n",
    "# Utility Tools\n",
    "from tqdm import tqdm\n",
    "import zipfile\n",
    "import requests"
   ],
   "outputs": [],
   "execution_count": 17
  },
  {
   "metadata": {},
   "cell_type": "markdown",
   "source": [
    "## Dataset Description\n",
    "The dataset, obtained from the MLEnd GitHub repository, consists of audio files and their associated metadata. Each audio file represents a spoken story categorized as either `True Story` or `Deceptive Story`.\n",
    "\n",
    "### Data Details:\n",
    "- **Audio Files**: 100 `.wav` files, sampled at 22,050 Hz.\n",
    "- **Metadata**: A CSV file containing labels and file names.\n",
    "- **Classes**:\n",
    "  - `True Story`: Represents truthful stories.\n",
    "  - `Deceptive Story`: Represents deceptive or fabricated stories.\n",
    "\n",
    "The dataset was balanced using oversampling techniques to ensure equal representation of both classes."
   ]
  },
  {
   "metadata": {
    "ExecuteTime": {
     "end_time": "2024-12-12T10:40:15.399355Z",
     "start_time": "2024-12-12T10:40:15.379469Z"
    }
   },
   "cell_type": "code",
   "source": [
    "# Step 1: Download dataset from GitHub\n",
    "dataset_url = \"https://github.com/CBU5201Datasets/Deception/archive/refs/heads/main.zip\"\n",
    "dataset_zip = \"Deception-main.zip\"\n",
    "\n",
    "if not os.path.exists(dataset_zip):\n",
    "    print(\"Downloading dataset...\")\n",
    "    response = requests.get(dataset_url)\n",
    "    with open(dataset_zip, \"wb\") as f:\n",
    "        f.write(response.content)\n",
    "    print(\"Dataset downloaded successfully.\")\n",
    "\n",
    "# Step 2: Extract the dataset\n",
    "if not os.path.exists(\"Deception-main\"):\n",
    "    print(\"Extracting dataset...\")\n",
    "    with zipfile.ZipFile(dataset_zip, \"r\") as zip_ref:\n",
    "        zip_ref.extractall()\n",
    "    print(\"Dataset extracted successfully.\")"
   ],
   "outputs": [],
   "execution_count": 18
  },
  {
   "cell_type": "markdown",
   "metadata": {
    "id": "bPTSuaB9L2jU"
   },
   "source": [
    "## 3. Methodology\n",
    "\n",
    "### Training Task\n",
    "The objective is to classify audio stories into two categories: `True Story` and `Deceptive Story` using an ensemble model that combines Random Forest, Support Vector Machine (SVM), and Multilayer Perceptron (MLP).\n",
    "\n",
    "### Validation Task\n",
    "We use **5-Fold Cross-Validation** to validate the model performance. This ensures that the model generalizes well across different data splits. Grid Search is employed during training to find the optimal weights for combining individual classifiers in the ensemble.\n",
    "\n",
    "### Performance Metrics\n",
    "The model performance is evaluated using:\n",
    "1. **Accuracy**: Measures the proportion of correctly classified samples.\n",
    "2. **Confusion Matrix**: Visualizes classification results for each category.\n",
    "3. **F1 Score**: Balances precision and recall, especially useful for imbalanced datasets.\n",
    "\n",
    "By combining rigorous validation techniques and performance metrics, this methodology ensures the development of a robust deception detection model.\n"
   ]
  },
  {
   "cell_type": "markdown",
   "metadata": {
    "id": "N3BwrtEdLDit"
   },
   "source": [
    "## 4. Implemented ML Prediction Pipelines\n",
    "\n",
    "### Overview\n",
    "The machine learning pipeline includes three main stages:\n",
    "1. **Transformation Stage**: Extract features from audio data.\n",
    "2. **Model Stage**: Train multiple machine learning models (Random Forest, SVM, Neural Networks).\n",
    "3. **Ensemble Stage**: Combine predictions from all models using weighted voting."
   ]
  },
  {
   "cell_type": "code",
   "metadata": {
    "ExecuteTime": {
     "end_time": "2024-12-12T10:40:15.530225Z",
     "start_time": "2024-12-12T10:40:15.503601Z"
    }
   },
   "source": [
    "# File paths after extraction\n",
    "base_dir = \"Deception-main/Deception-main\"\n",
    "metadata_file = os.path.join(base_dir, \"CBU0521DD_stories_attributes.csv\")\n",
    "audio_dir = os.path.join(base_dir, \"CBU0521DD_stories\")\n",
    "\n",
    "# Step 3: Load Metadata\n",
    "metadata = pd.read_csv(metadata_file)\n",
    "print(\"Metadata loaded successfully.\")\n"
   ],
   "outputs": [
    {
     "name": "stdout",
     "output_type": "stream",
     "text": [
      "Metadata loaded successfully.\n"
     ]
    }
   ],
   "execution_count": 19
  },
  {
   "cell_type": "markdown",
   "metadata": {
    "id": "j1nDXnzYLLH6"
   },
   "source": [
    "### 4.1 Transformation Stage\n",
    "- **Feature Extraction**:  \n",
    "  Extract MFCC (Mel-Frequency Cepstral Coefficients), Chroma, and Spectral Contrast features from the audio files.  \n",
    "- **Input and Output**:  \n",
    "  - **Input**: `.wav` audio files  \n",
    "  - **Output**: Feature vectors representing audio characteristics. "
   ]
  },
  {
   "cell_type": "code",
   "metadata": {
    "ExecuteTime": {
     "end_time": "2024-12-12T10:41:36.638201Z",
     "start_time": "2024-12-12T10:40:15.607984Z"
    }
   },
   "source": [
    "# 2. Feature Extraction\n",
    "def extract_features(audio_file, sr=22050, n_mfcc=13):\n",
    "    try:\n",
    "        audio, _ = librosa.load(audio_file, sr=sr)\n",
    "        mfcc = librosa.feature.mfcc(y=audio, sr=sr, n_mfcc=n_mfcc)\n",
    "        chroma = librosa.feature.chroma_stft(y=audio, sr=sr)\n",
    "        contrast = librosa.feature.spectral_contrast(y=audio, sr=sr)\n",
    "        features = np.hstack([np.mean(mfcc.T, axis=0),\n",
    "                              np.mean(chroma.T, axis=0),\n",
    "                              np.mean(contrast.T, axis=0)])\n",
    "        return features\n",
    "    except Exception as e:\n",
    "        print(f\"Error processing {audio_file}: {e}\")\n",
    "        return None\n",
    "\n",
    "tqdm.pandas(desc=\"Extracting Features\")\n",
    "metadata['features'] = metadata['filename'].progress_apply(\n",
    "    lambda x: extract_features(os.path.join(audio_dir, x))\n",
    ")\n",
    "\n",
    "metadata = metadata.dropna(subset=['features', 'Story_type'])\n",
    "metadata = metadata[metadata['Story_type'].isin(['True Story', 'Deceptive Story'])]\n",
    "\n",
    "# 3. Balance Data\n",
    "metadata_true = metadata[metadata['Story_type'] == 'True Story']\n",
    "metadata_deceptive = metadata[metadata['Story_type'] == 'Deceptive Story']\n",
    "metadata_balanced = pd.concat([\n",
    "    metadata_true,\n",
    "    resample(metadata_deceptive, replace=True, n_samples=len(metadata_true), random_state=42)\n",
    "])\n",
    "\n",
    "X = np.array(metadata_balanced['features'].tolist())\n",
    "y = metadata_balanced['Story_type'].map({'True Story': 1, 'Deceptive Story': 0}).values\n",
    "print(f\"Feature extraction completed. Dataset size: {X.shape[0]} samples.\")"
   ],
   "outputs": [
    {
     "name": "stderr",
     "output_type": "stream",
     "text": [
      "Extracting Features: 100%|██████████| 100/100 [01:21<00:00,  1.23it/s]"
     ]
    },
    {
     "name": "stdout",
     "output_type": "stream",
     "text": [
      "Feature extraction completed. Dataset size: 100 samples.\n"
     ]
    },
    {
     "name": "stderr",
     "output_type": "stream",
     "text": [
      "\n"
     ]
    }
   ],
   "execution_count": 20
  },
  {
   "cell_type": "markdown",
   "metadata": {
    "id": "0F5_kI95LuZ2"
   },
   "source": [
    "### 4.2 Model Stage\n",
    "- **Models**:\n",
    "  - **Random Forest**: Robust for small datasets and interpretable.  \n",
    "  - **Support Vector Machine (SVM)**: Effective for binary classification problems.  \n",
    "  - **Neural Networks**: Capture complex patterns in data.  "
   ]
  },
  {
   "cell_type": "code",
   "metadata": {
    "ExecuteTime": {
     "end_time": "2024-12-12T10:43:57.168523Z",
     "start_time": "2024-12-12T10:41:36.810860Z"
    }
   },
   "source": [
    "# Define individual models\n",
    "rf_model = RandomForestClassifier(n_estimators=100, random_state=42)\n",
    "svm_model = SVC(kernel='linear', probability=True, random_state=42)\n",
    "nn_model = MLPClassifier(hidden_layer_sizes=(100, 50), max_iter=1000, learning_rate_init=0.001, random_state=42)\n",
    "\n",
    "# Define ensemble model\n",
    "ensemble_model = VotingClassifier(\n",
    "    estimators=[\n",
    "        ('rf', rf_model),\n",
    "        ('svm', svm_model),\n",
    "        ('nn', nn_model)\n",
    "    ],\n",
    "    voting='soft'\n",
    ")\n",
    "\n",
    "# Define parameter grid for weight optimization\n",
    "param_grid = {\n",
    "    'weights': [\n",
    "        [1, 1, 1], [2, 1, 1], [1, 2, 1], [1, 1, 2], [2, 2, 1], [1, 2, 2], [2, 1, 2]\n",
    "    ]\n",
    "}\n",
    "\n",
    "# Perform Grid Search with K-Fold Cross-Validation\n",
    "kfold = StratifiedKFold(n_splits=5, shuffle=True, random_state=42)\n",
    "\n",
    "# Correctly wrap ensemble model for GridSearchCV\n",
    "grid_search = GridSearchCV(\n",
    "    VotingClassifier(\n",
    "        estimators=[\n",
    "            ('rf', rf_model),\n",
    "            ('svm', svm_model),\n",
    "            ('nn', nn_model)\n",
    "        ],\n",
    "        voting='soft'\n",
    "    ),\n",
    "    param_grid={'weights': param_grid['weights']},\n",
    "    cv=kfold,\n",
    "    scoring='accuracy',\n",
    "    verbose=2\n",
    ")\n",
    "\n",
    "grid_search.fit(X, y)\n",
    "\n",
    "# Get the best weights\n",
    "best_weights = grid_search.best_params_['weights']\n",
    "print(f\"Best weights from grid search: {best_weights}\")\n",
    "\n",
    "# Define the final ensemble model with optimized weights\n",
    "ensemble_model = VotingClassifier(\n",
    "    estimators=[\n",
    "        ('rf', rf_model),\n",
    "        ('svm', svm_model),\n",
    "        ('nn', nn_model)\n",
    "    ],\n",
    "    voting='soft',\n",
    "    weights=best_weights\n",
    ")\n",
    "\n",
    "print(\"Models defined successfully with optimized weights.\")\n"
   ],
   "outputs": [
    {
     "name": "stdout",
     "output_type": "stream",
     "text": [
      "Fitting 5 folds for each of 7 candidates, totalling 35 fits\n",
      "[CV] END ..................................weights=[1, 1, 1]; total time=   4.8s\n",
      "[CV] END ..................................weights=[1, 1, 1]; total time=   3.4s\n",
      "[CV] END ..................................weights=[1, 1, 1]; total time=   3.2s\n",
      "[CV] END ..................................weights=[1, 1, 1]; total time=   2.7s\n",
      "[CV] END ..................................weights=[1, 1, 1]; total time=   4.6s\n",
      "[CV] END ..................................weights=[2, 1, 1]; total time=   5.3s\n",
      "[CV] END ..................................weights=[2, 1, 1]; total time=   3.3s\n",
      "[CV] END ..................................weights=[2, 1, 1]; total time=   3.3s\n",
      "[CV] END ..................................weights=[2, 1, 1]; total time=   2.9s\n",
      "[CV] END ..................................weights=[2, 1, 1]; total time=   4.7s\n",
      "[CV] END ..................................weights=[1, 2, 1]; total time=   4.8s\n",
      "[CV] END ..................................weights=[1, 2, 1]; total time=   3.3s\n",
      "[CV] END ..................................weights=[1, 2, 1]; total time=   2.9s\n",
      "[CV] END ..................................weights=[1, 2, 1]; total time=   2.9s\n",
      "[CV] END ..................................weights=[1, 2, 1]; total time=   4.5s\n",
      "[CV] END ..................................weights=[1, 1, 2]; total time=   5.7s\n",
      "[CV] END ..................................weights=[1, 1, 2]; total time=   3.3s\n",
      "[CV] END ..................................weights=[1, 1, 2]; total time=   3.1s\n",
      "[CV] END ..................................weights=[1, 1, 2]; total time=   2.9s\n",
      "[CV] END ..................................weights=[1, 1, 2]; total time=   4.8s\n",
      "[CV] END ..................................weights=[2, 2, 1]; total time=   4.7s\n",
      "[CV] END ..................................weights=[2, 2, 1]; total time=   3.2s\n",
      "[CV] END ..................................weights=[2, 2, 1]; total time=   3.1s\n",
      "[CV] END ..................................weights=[2, 2, 1]; total time=   2.9s\n",
      "[CV] END ..................................weights=[2, 2, 1]; total time=   4.4s\n",
      "[CV] END ..................................weights=[1, 2, 2]; total time=   4.5s\n",
      "[CV] END ..................................weights=[1, 2, 2]; total time=   3.1s\n",
      "[CV] END ..................................weights=[1, 2, 2]; total time=   3.5s\n",
      "[CV] END ..................................weights=[1, 2, 2]; total time=   3.3s\n",
      "[CV] END ..................................weights=[1, 2, 2]; total time=   4.5s\n",
      "[CV] END ..................................weights=[2, 1, 2]; total time=   4.6s\n",
      "[CV] END ..................................weights=[2, 1, 2]; total time=   3.2s\n",
      "[CV] END ..................................weights=[2, 1, 2]; total time=   3.1s\n",
      "[CV] END ..................................weights=[2, 1, 2]; total time=   2.7s\n",
      "[CV] END ..................................weights=[2, 1, 2]; total time=   4.3s\n",
      "Best weights from grid search: [1, 2, 1]\n",
      "Models defined successfully with optimized weights.\n"
     ]
    }
   ],
   "execution_count": 21
  },
  {
   "cell_type": "markdown",
   "metadata": {},
   "source": [
    "### 4.3 Ensemble Stage\n",
    "- **Approach**: Weighted Voting.  \n",
    "  Combine the predictions of Random Forest, SVM, and Neural Networks using a weighted soft voting strategy to improve classification performance.  \n",
    "- **Rationale**: Ensemble models leverage the strengths of multiple algorithms to achieve higher accuracy.  "
   ]
  },
  {
   "cell_type": "code",
   "metadata": {
    "ExecuteTime": {
     "end_time": "2024-12-12T10:44:20.893900Z",
     "start_time": "2024-12-12T10:43:57.187006Z"
    }
   },
   "source": [
    "# 5. K-Fold Cross-Validation\n",
    "kfold = StratifiedKFold(n_splits=5, shuffle=True, random_state=42)\n",
    "print(\"Starting K-Fold Cross-Validation...\")\n",
    "cv_scores = cross_val_score(ensemble_model, X, y, cv=kfold, scoring='accuracy', verbose=1)\n",
    "print(\"Cross-Validation Scores:\", cv_scores)\n",
    "print(\"Mean Accuracy:\", np.mean(cv_scores))\n",
    "\n",
    "# Final Model Training\n",
    "print(\"Training ensemble model on the entire dataset...\")\n",
    "ensemble_model.fit(X, y)\n",
    "print(\"Ensemble model training completed.\")"
   ],
   "outputs": [
    {
     "name": "stdout",
     "output_type": "stream",
     "text": [
      "Starting K-Fold Cross-Validation...\n",
      "Cross-Validation Scores: [0.55 0.55 0.6  0.55 0.55]\n",
      "Mean Accuracy: 0.5599999999999999\n",
      "Training ensemble model on the entire dataset...\n",
      "Ensemble model training completed.\n"
     ]
    }
   ],
   "execution_count": 22
  },
  {
   "cell_type": "markdown",
   "metadata": {
    "id": "HZQPxztuL9AW"
   },
   "source": [
    "## 5. Dataset\n",
    "The dataset is based on the MLEnd Deception Dataset, consisting of `.wav` audio files and corresponding metadata.\n",
    "\n",
    "### Dataset Creation\n",
    "1. **Training and Validation Datasets**:  \n",
    "   - Split the dataset into training and validation sets using stratified sampling to ensure class balance.  \n",
    "   - Handle class imbalance by oversampling the minority class.  \n",
    "\n",
    "2. **Dataset Exploration**:  \n",
    "   - Visualize class distributions and extracted features.  \n",
    "   - Ensure the data is IID (independent and identically distributed).  "
   ]
  },
  {
   "metadata": {
    "ExecuteTime": {
     "end_time": "2024-12-12T10:44:24.609242Z",
     "start_time": "2024-12-12T10:44:21.003152Z"
    }
   },
   "cell_type": "code",
   "source": [
    "# Evaluate model and generate confusion matrix\n",
    "X_train, X_test, y_train, y_test = train_test_split(X, y, test_size=0.2, stratify=y, random_state=42)\n",
    "ensemble_model.fit(X_train, y_train)\n",
    "y_pred = ensemble_model.predict(X_test)"
   ],
   "outputs": [],
   "execution_count": 23
  },
  {
   "cell_type": "markdown",
   "metadata": {
    "id": "2qf7GN1aeXJI"
   },
   "source": [
    "## 6. Experiments and Results\n",
    "- **Cross-Validation Results**:  \n",
    "  Perform 5-Fold Cross-Validation to evaluate model stability and average performance.  \n",
    "\n",
    "- **Model Evaluation**:  \n",
    "  - Accuracy, confusion matrix, and F1 scores are presented for Random Forest, SVM, and the ensemble model.  \n",
    "  - The ensemble model outperformed individual models in terms of accuracy and F1 score.\n",
    "\n",
    "- **Visualization**:  \n",
    "  - Feature distributions and confusion matrices provide insights into model behavior.  "
   ]
  },
  {
   "cell_type": "code",
   "metadata": {
    "ExecuteTime": {
     "end_time": "2024-12-12T10:44:25.230342Z",
     "start_time": "2024-12-12T10:44:24.738130Z"
    }
   },
   "source": [
    "# Confusion Matrix Visualization\n",
    "conf_matrix = confusion_matrix(y_test, y_pred)\n",
    "plt.figure(figsize=(8, 6))\n",
    "sns.heatmap(conf_matrix, annot=True, fmt='d', cmap='Blues', xticklabels=['Deceptive Story', 'True Story'], yticklabels=['Deceptive Story', 'True Story'])\n",
    "plt.title(\"Confusion Matrix Heatmap\")\n",
    "plt.xlabel(\"Predicted\")\n",
    "plt.ylabel(\"Actual\")\n",
    "plt.show()\n",
    "\n",
    "# Compute ROC curve\n",
    "y_score = ensemble_model.predict_proba(X_test)[:, 1]\n",
    "fpr, tpr, _ = roc_curve(y_test, y_score)\n",
    "roc_auc = auc(fpr, tpr)\n",
    "\n",
    "# Plot ROC curve\n",
    "plt.figure()\n",
    "plt.plot(fpr, tpr, color='darkorange', lw=2, label=f'ROC curve (area = {roc_auc:.2f})')\n",
    "plt.plot([0, 1], [0, 1], color='navy', lw=2, linestyle='--')\n",
    "plt.xlabel('False Positive Rate')\n",
    "plt.ylabel('True Positive Rate')\n",
    "plt.title('Receiver Operating Characteristic (ROC)')\n",
    "plt.legend(loc=\"lower right\")\n",
    "plt.show()\n",
    "\n",
    "# Classification Report\n",
    "print(\"\\nClassification Report:\\n\", classification_report(y_test, y_pred))\n"
   ],
   "outputs": [
    {
     "data": {
      "text/plain": [
       "<Figure size 800x600 with 2 Axes>"
      ],
      "image/png": "[encoded data removed]"
     },
     "metadata": {},
     "output_type": "display_data"
    },
    {
     "data": {
      "text/plain": [
       "<Figure size 640x480 with 1 Axes>"
      ],
      "image/png": "[encoded data removed]"
     },
     "metadata": {},
     "output_type": "display_data"
    },
    {
     "name": "stdout",
     "output_type": "stream",
     "text": [
      "\n",
      "Classification Report:\n",
      "               precision    recall  f1-score   support\n",
      "\n",
      "           0       0.67      0.80      0.73        10\n",
      "           1       0.75      0.60      0.67        10\n",
      "\n",
      "    accuracy                           0.70        20\n",
      "   macro avg       0.71      0.70      0.70        20\n",
      "weighted avg       0.71      0.70      0.70        20\n",
      "\n"
     ]
    }
   ],
   "execution_count": 24
  },
  {
   "cell_type": "markdown",
   "metadata": {
    "id": "fSrJCR_cekPO"
   },
   "source": [
    "\n",
    "## 7. Conclusions\n",
    "### Findings\n",
    "- The ensemble model achieved the best results due to its ability to combine the strengths of multiple classifiers.  \n",
    "- Audio features like MFCC and Spectral Contrast significantly improved performance.  \n",
    "\n",
    "### Limitations\n",
    "- Limited dataset size might restrict the generalization of the model.  \n",
    "\n",
    "### Future Improvements\n",
    "- Use pre-trained models for feature extraction (e.g., Wav2Vec).  \n",
    "- Expand the dataset with data augmentation techniques.  "
   ]
  },
  {
   "cell_type": "markdown",
   "metadata": {},
   "source": [
    "## 8. References\n",
    "### 1. Scikit-learn:\n",
    "Pedregosa et al., \"Scikit-learn: Machine Learning in Python,\" Journal of Machine Learning Research, 2011.\n",
    "### 2. Audio Feature Extraction:\n",
    "Steven W. Smith, \"The Scientist and Engineer's Guide to Digital Signal Processing,\" California Technical Publishing, 1997.D. Ellis, \"Detecting Deceptive Speech: Feature Engineering and Machine Learning Approaches,\" Proceedings of ICASSP, 2010.\n",
    "### 3. K-Fold Cross-Validation:\n",
    "Kohavi, R., \"A Study of Cross-Validation and Bootstrap for Accuracy Estimation and Model Selection,\" Proceedings of the 14th International Joint Conference on Artificial Intelligence, 1995."
   ]
  }
 ],
 "metadata": {
  "colab": {
   "provenance": []
  },
  "kernelspec": {
   "display_name": "Python 3 (ipykernel)",
   "language": "python",
   "name": "python3"
  },
  "language_info": {
   "codemirror_mode": {
    "name": "ipython",
    "version": 3
   },
   "file_extension": ".py",
   "mimetype": "text/x-python",
   "name": "python",
   "nbconvert_exporter": "python",
   "pygments_lexer": "ipython3",
   "version": "3.11.7"
  }
 },
 "nbformat": 4,
 "nbformat_minor": 4
}
